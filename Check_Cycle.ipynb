{
 "cells": [
  {
   "cell_type": "code",
   "execution_count": 28,
   "id": "570c79df-faf2-44d5-89c0-57f635bbdb1f",
   "metadata": {
    "tags": []
   },
   "outputs": [
    {
     "name": "stdout",
     "output_type": "stream",
     "text": [
      "System:(1, 2, 2)\n",
      "All combinations: [(0, 1, 4), (0, 4, 1), (1, 2, 2), (5, 0, 0), (2, 0, 3), (3, 1, 1), (2, 3, 0)]\n",
      "The total number of combinations 7.\n"
     ]
    }
   ],
   "source": [
    "def all_possible_states(a0, b0, c0):\n",
    "    \"\"\"\n",
    "    Calculate all possible states given the initial number of A, B, and C particles.\n",
    "    \n",
    "    Args:\n",
    "    a0 (int): Initial number of A particles.\n",
    "    b0 (int): Initial number of B particles.\n",
    "    c0 (int): Initial number of C particles.\n",
    "\n",
    "    Returns:\n",
    "    list: A list of tuples representing all possible states.\n",
    "    int: The number of possible states.\n",
    "    \"\"\"\n",
    "    initial_state = (a0, b0, c0)\n",
    "    total_particles = a0 + b0 + c0\n",
    "    states = {initial_state}\n",
    "    \n",
    "    # Iterate over all possible combinations of particle numbers\n",
    "    for x in range(total_particles + 1):\n",
    "        for y in range(total_particles + 1):\n",
    "            z = total_particles - x - y  # Calculate z to ensure the total is N\n",
    "            if 0 <= z <= total_particles:\n",
    "                # Check if the new state follows the rules of transformation\n",
    "                valid_ab = ((2 * x + y) % 3 == (2 * a0 + b0) % 3) and ((2 * y + x) % 3 == (2 * b0 + a0) % 3)\n",
    "                valid_ac = ((2 * x + z) % 3 == (2 * a0 + c0) % 3) and ((2 * z + x) % 3 == (2 * c0 + a0) % 3)\n",
    "                valid_bc = ((2 * y + z) % 3 == (2 * b0 + c0) % 3) and ((2 * z + y) % 3 == (2 * c0 + b0) % 3)\n",
    "                \n",
    "                if valid_ab and valid_ac and valid_bc:\n",
    "                    states.add((x, y, z))\n",
    "    \n",
    "    return list(states), len(states),a0,b0,c0\n",
    "\n",
    "values, num_values,a0,b0,c0 = all_possible_states(1, 2, 2)\n",
    "print(f'System:{(a0,b0,c0)}')\n",
    "print(f'All combinations: {values}')\n",
    "print(f'The total number of combinations {num_values}.')\n"
   ]
  },
  {
   "cell_type": "code",
   "execution_count": 29,
   "id": "402b1857-3689-4cba-a2c7-3ec93ded5f9f",
   "metadata": {},
   "outputs": [
    {
     "name": "stdout",
     "output_type": "stream",
     "text": [
      "N=4: Cycles=[(0, 0, 4), (0, 1, 3), (0, 2, 2), (0, 3, 1), (0, 4, 0), (1, 0, 3), (1, 1, 2), (1, 2, 1), (1, 3, 0), (2, 0, 2), (2, 1, 1), (2, 2, 0), (3, 0, 1), (3, 1, 0), (4, 0, 0)]\n",
      "N=5: Cycles=[(0, 0, 5), (0, 1, 4), (0, 2, 3), (0, 3, 2), (0, 4, 1), (0, 5, 0), (1, 0, 4), (1, 1, 3), (1, 2, 2), (1, 3, 1), (1, 4, 0), (2, 0, 3), (2, 1, 2), (2, 2, 1), (2, 3, 0), (3, 0, 2), (3, 1, 1), (3, 2, 0), (4, 0, 1), (4, 1, 0), (5, 0, 0)]\n",
      "N=7: Cycles=[(0, 0, 7), (0, 1, 6), (0, 2, 5), (0, 3, 4), (0, 4, 3), (0, 5, 2), (0, 6, 1), (0, 7, 0), (1, 0, 6), (1, 1, 5), (1, 2, 4), (1, 3, 3), (1, 4, 2), (1, 5, 1), (1, 6, 0), (2, 0, 5), (2, 1, 4), (2, 2, 3), (2, 3, 2), (2, 4, 1), (2, 5, 0), (3, 0, 4), (3, 1, 3), (3, 2, 2), (3, 3, 1), (3, 4, 0), (4, 0, 3), (4, 1, 2), (4, 2, 1), (4, 3, 0), (5, 0, 2), (5, 1, 1), (5, 2, 0), (6, 0, 1), (6, 1, 0), (7, 0, 0)]\n",
      "N=8: Cycles=[(0, 0, 8), (0, 1, 7), (0, 2, 6), (0, 3, 5), (0, 4, 4), (0, 5, 3), (0, 6, 2), (0, 7, 1), (0, 8, 0), (1, 0, 7), (1, 1, 6), (1, 2, 5), (1, 3, 4), (1, 4, 3), (1, 5, 2), (1, 6, 1), (1, 7, 0), (2, 0, 6), (2, 1, 5), (2, 2, 4), (2, 3, 3), (2, 4, 2), (2, 5, 1), (2, 6, 0), (3, 0, 5), (3, 1, 4), (3, 2, 3), (3, 3, 2), (3, 4, 1), (3, 5, 0), (4, 0, 4), (4, 1, 3), (4, 2, 2), (4, 3, 1), (4, 4, 0), (5, 0, 3), (5, 1, 2), (5, 2, 1), (5, 3, 0), (6, 0, 2), (6, 1, 1), (6, 2, 0), (7, 0, 1), (7, 1, 0), (8, 0, 0)]\n",
      "N=10: Cycles=[(0, 0, 10), (0, 1, 9), (0, 2, 8), (0, 3, 7), (0, 4, 6), (0, 5, 5), (0, 6, 4), (0, 7, 3), (0, 8, 2), (0, 9, 1), (0, 10, 0), (1, 0, 9), (1, 1, 8), (1, 2, 7), (1, 3, 6), (1, 4, 5), (1, 5, 4), (1, 6, 3), (1, 7, 2), (1, 8, 1), (1, 9, 0), (2, 0, 8), (2, 1, 7), (2, 2, 6), (2, 3, 5), (2, 4, 4), (2, 5, 3), (2, 6, 2), (2, 7, 1), (2, 8, 0), (3, 0, 7), (3, 1, 6), (3, 2, 5), (3, 3, 4), (3, 4, 3), (3, 5, 2), (3, 6, 1), (3, 7, 0), (4, 0, 6), (4, 1, 5), (4, 2, 4), (4, 3, 3), (4, 4, 2), (4, 5, 1), (4, 6, 0), (5, 0, 5), (5, 1, 4), (5, 2, 3), (5, 3, 2), (5, 4, 1), (5, 5, 0), (6, 0, 4), (6, 1, 3), (6, 2, 2), (6, 3, 1), (6, 4, 0), (7, 0, 3), (7, 1, 2), (7, 2, 1), (7, 3, 0), (8, 0, 2), (8, 1, 1), (8, 2, 0), (9, 0, 1), (9, 1, 0), (10, 0, 0)]\n"
     ]
    }
   ],
   "source": [
    "def find_cycles_for_N_not_divisible_by_3(max_N):\n",
    "    \"\"\"\n",
    "    Find cycles in systems where N is not divisible by 3.\n",
    "    \n",
    "    Args:\n",
    "    max_N (int): The maximum value of N to consider.\n",
    "    \n",
    "    Returns:\n",
    "    dict: A dictionary with keys as N values and values as lists of cycles found.\n",
    "    \"\"\"\n",
    "    cycles = {}\n",
    "    for N in range(4, max_N + 1):\n",
    "        if N % 3 != 0:\n",
    "            cycles[N] = []\n",
    "            for a0 in range(N + 1):\n",
    "                for b0 in range(N + 1 - a0):\n",
    "                    c0 = N - a0 - b0\n",
    "                    _, num_states, _, _, _ = all_possible_states(a0, b0, c0)\n",
    "                    # If the number of states is greater than 1, a cycle exists\n",
    "                    if num_states > 1:\n",
    "                        cycles[N].append((a0, b0, c0))\n",
    "    return cycles\n",
    "\n",
    "# Let's find cycles for N values up to 10 that are not divisible by 3\n",
    "cycles = find_cycles_for_N_not_divisible_by_3(10)\n",
    "for N, cycle_list in cycles.items():\n",
    "    print(f'N={N}: Cycles={cycle_list}')\n"
   ]
  }
 ],
 "metadata": {
  "kernelspec": {
   "display_name": "Python 3 (ipykernel)",
   "language": "python",
   "name": "python3"
  },
  "language_info": {
   "codemirror_mode": {
    "name": "ipython",
    "version": 3
   },
   "file_extension": ".py",
   "mimetype": "text/x-python",
   "name": "python",
   "nbconvert_exporter": "python",
   "pygments_lexer": "ipython3",
   "version": "3.11.5"
  }
 },
 "nbformat": 4,
 "nbformat_minor": 5
}
